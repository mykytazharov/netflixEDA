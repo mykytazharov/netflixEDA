{
 "cells": [
  {
   "cell_type": "markdown",
   "metadata": {},
   "source": [
    "# Netflix titles and IMDb ratings - EDA"
   ]
  },
  {
   "cell_type": "markdown",
   "metadata": {},
   "source": [
    "In this notebook I am going to merge a netflix titles dataset from https://www.kaggle.com/shivamb/netflix-shows/kernels with IMDb dataset\n",
    "in order to get ratings values for the MOVIES available on netflix, and try to find some insights. \n",
    "My exploratory data analysis of the netflix titles dataset can be foud here - https://www.kaggle.com/mykytazharov/eda-of-a-netflix-dataset-with-plotly-in-r ."
   ]
  },
  {
   "cell_type": "markdown",
   "metadata": {},
   "source": [
    "Note: the movies will be merged on title and the release year. Some films from the netflix dataset will not be found in the IMDb dataset. Further improvement of the merging can be implemented, as well as imputing the missing values."
   ]
  },
  {
   "cell_type": "markdown",
   "metadata": {},
   "source": [
    "Import modules"
   ]
  },
  {
   "cell_type": "code",
   "execution_count": 138,
   "metadata": {},
   "outputs": [],
   "source": [
    "import pandas as pd\n",
    "import csv\n",
    "import numpy\n",
    "import seaborn as sns\n",
    "import matplotlib.pyplot as plt"
   ]
  },
  {
   "cell_type": "markdown",
   "metadata": {},
   "source": [
    "Load IMDb data in .tsv format and save it into dataframes.\n",
    "I am going to use two datasets from the https://www.imdb.com/interfaces/. \n",
    "Information courtesy of IMDb (http://www.imdb.com). Used with permission.\n",
    "The two datasets are: \n",
    "* \"title.basics.tsv.gz\" - here I take a title of the movie and release year\n",
    "* \"title.ratings.tsv.gz\" - here I take ratings for the titles"
   ]
  },
  {
   "cell_type": "markdown",
   "metadata": {},
   "source": [
    "## Data reading and cleaning"
   ]
  },
  {
   "cell_type": "code",
   "execution_count": 139,
   "metadata": {},
   "outputs": [],
   "source": [
    "#read data into a datagrame\n",
    "title_ratings=pd.read_csv(\"title.ratings.tsv\", sep='\\t')"
   ]
  },
  {
   "cell_type": "code",
   "execution_count": 140,
   "metadata": {},
   "outputs": [
    {
     "data": {
      "text/html": [
       "<div>\n",
       "<style scoped>\n",
       "    .dataframe tbody tr th:only-of-type {\n",
       "        vertical-align: middle;\n",
       "    }\n",
       "\n",
       "    .dataframe tbody tr th {\n",
       "        vertical-align: top;\n",
       "    }\n",
       "\n",
       "    .dataframe thead th {\n",
       "        text-align: right;\n",
       "    }\n",
       "</style>\n",
       "<table border=\"1\" class=\"dataframe\">\n",
       "  <thead>\n",
       "    <tr style=\"text-align: right;\">\n",
       "      <th></th>\n",
       "      <th>tconst</th>\n",
       "      <th>averageRating</th>\n",
       "      <th>numVotes</th>\n",
       "    </tr>\n",
       "  </thead>\n",
       "  <tbody>\n",
       "    <tr>\n",
       "      <td>0</td>\n",
       "      <td>tt0000001</td>\n",
       "      <td>5.6</td>\n",
       "      <td>1600</td>\n",
       "    </tr>\n",
       "    <tr>\n",
       "      <td>1</td>\n",
       "      <td>tt0000002</td>\n",
       "      <td>6.0</td>\n",
       "      <td>196</td>\n",
       "    </tr>\n",
       "    <tr>\n",
       "      <td>2</td>\n",
       "      <td>tt0000003</td>\n",
       "      <td>6.5</td>\n",
       "      <td>1275</td>\n",
       "    </tr>\n",
       "    <tr>\n",
       "      <td>3</td>\n",
       "      <td>tt0000004</td>\n",
       "      <td>6.1</td>\n",
       "      <td>121</td>\n",
       "    </tr>\n",
       "    <tr>\n",
       "      <td>4</td>\n",
       "      <td>tt0000005</td>\n",
       "      <td>6.1</td>\n",
       "      <td>2037</td>\n",
       "    </tr>\n",
       "  </tbody>\n",
       "</table>\n",
       "</div>"
      ],
      "text/plain": [
       "      tconst  averageRating  numVotes\n",
       "0  tt0000001            5.6      1600\n",
       "1  tt0000002            6.0       196\n",
       "2  tt0000003            6.5      1275\n",
       "3  tt0000004            6.1       121\n",
       "4  tt0000005            6.1      2037"
      ]
     },
     "execution_count": 140,
     "metadata": {},
     "output_type": "execute_result"
    }
   ],
   "source": [
    "title_ratings.head()"
   ]
  },
  {
   "cell_type": "code",
   "execution_count": 141,
   "metadata": {},
   "outputs": [
    {
     "data": {
      "text/plain": [
       "(1024336, 3)"
      ]
     },
     "execution_count": 141,
     "metadata": {},
     "output_type": "execute_result"
    }
   ],
   "source": [
    "#number of rows in the dataframe\n",
    "title_ratings.shape"
   ]
  },
  {
   "cell_type": "code",
   "execution_count": 142,
   "metadata": {},
   "outputs": [
    {
     "data": {
      "text/html": [
       "<div>\n",
       "<style scoped>\n",
       "    .dataframe tbody tr th:only-of-type {\n",
       "        vertical-align: middle;\n",
       "    }\n",
       "\n",
       "    .dataframe tbody tr th {\n",
       "        vertical-align: top;\n",
       "    }\n",
       "\n",
       "    .dataframe thead th {\n",
       "        text-align: right;\n",
       "    }\n",
       "</style>\n",
       "<table border=\"1\" class=\"dataframe\">\n",
       "  <thead>\n",
       "    <tr style=\"text-align: right;\">\n",
       "      <th></th>\n",
       "      <th>tconst</th>\n",
       "      <th>averageRating</th>\n",
       "      <th>numVotes</th>\n",
       "    </tr>\n",
       "  </thead>\n",
       "  <tbody>\n",
       "    <tr>\n",
       "      <td>0</td>\n",
       "      <td>tt0000001</td>\n",
       "      <td>1</td>\n",
       "      <td>1</td>\n",
       "    </tr>\n",
       "    <tr>\n",
       "      <td>1</td>\n",
       "      <td>tt0000002</td>\n",
       "      <td>1</td>\n",
       "      <td>1</td>\n",
       "    </tr>\n",
       "    <tr>\n",
       "      <td>2</td>\n",
       "      <td>tt0000003</td>\n",
       "      <td>1</td>\n",
       "      <td>1</td>\n",
       "    </tr>\n",
       "    <tr>\n",
       "      <td>3</td>\n",
       "      <td>tt0000004</td>\n",
       "      <td>1</td>\n",
       "      <td>1</td>\n",
       "    </tr>\n",
       "    <tr>\n",
       "      <td>4</td>\n",
       "      <td>tt0000005</td>\n",
       "      <td>1</td>\n",
       "      <td>1</td>\n",
       "    </tr>\n",
       "    <tr>\n",
       "      <td>...</td>\n",
       "      <td>...</td>\n",
       "      <td>...</td>\n",
       "      <td>...</td>\n",
       "    </tr>\n",
       "    <tr>\n",
       "      <td>1024331</td>\n",
       "      <td>tt9916576</td>\n",
       "      <td>1</td>\n",
       "      <td>1</td>\n",
       "    </tr>\n",
       "    <tr>\n",
       "      <td>1024332</td>\n",
       "      <td>tt9916578</td>\n",
       "      <td>1</td>\n",
       "      <td>1</td>\n",
       "    </tr>\n",
       "    <tr>\n",
       "      <td>1024333</td>\n",
       "      <td>tt9916720</td>\n",
       "      <td>1</td>\n",
       "      <td>1</td>\n",
       "    </tr>\n",
       "    <tr>\n",
       "      <td>1024334</td>\n",
       "      <td>tt9916766</td>\n",
       "      <td>1</td>\n",
       "      <td>1</td>\n",
       "    </tr>\n",
       "    <tr>\n",
       "      <td>1024335</td>\n",
       "      <td>tt9916778</td>\n",
       "      <td>1</td>\n",
       "      <td>1</td>\n",
       "    </tr>\n",
       "  </tbody>\n",
       "</table>\n",
       "<p>1024336 rows × 3 columns</p>\n",
       "</div>"
      ],
      "text/plain": [
       "            tconst  averageRating  numVotes\n",
       "0        tt0000001              1         1\n",
       "1        tt0000002              1         1\n",
       "2        tt0000003              1         1\n",
       "3        tt0000004              1         1\n",
       "4        tt0000005              1         1\n",
       "...            ...            ...       ...\n",
       "1024331  tt9916576              1         1\n",
       "1024332  tt9916578              1         1\n",
       "1024333  tt9916720              1         1\n",
       "1024334  tt9916766              1         1\n",
       "1024335  tt9916778              1         1\n",
       "\n",
       "[1024336 rows x 3 columns]"
      ]
     },
     "execution_count": 142,
     "metadata": {},
     "output_type": "execute_result"
    }
   ],
   "source": [
    "#check if we have unique ratings for the titles\n",
    "title_ratings.groupby(['tconst'], as_index=False).count()"
   ]
  },
  {
   "cell_type": "markdown",
   "metadata": {},
   "source": [
    "From the above output we see that we have unique rating values for each title."
   ]
  },
  {
   "cell_type": "code",
   "execution_count": 143,
   "metadata": {},
   "outputs": [],
   "source": [
    "title_basics=pd.read_csv(\"title.basics.tsv\", sep='\\t')\n",
    "title_basics=title_basics.drop_duplicates()"
   ]
  },
  {
   "cell_type": "code",
   "execution_count": 144,
   "metadata": {},
   "outputs": [
    {
     "data": {
      "text/html": [
       "<div>\n",
       "<style scoped>\n",
       "    .dataframe tbody tr th:only-of-type {\n",
       "        vertical-align: middle;\n",
       "    }\n",
       "\n",
       "    .dataframe tbody tr th {\n",
       "        vertical-align: top;\n",
       "    }\n",
       "\n",
       "    .dataframe thead th {\n",
       "        text-align: right;\n",
       "    }\n",
       "</style>\n",
       "<table border=\"1\" class=\"dataframe\">\n",
       "  <thead>\n",
       "    <tr style=\"text-align: right;\">\n",
       "      <th></th>\n",
       "      <th>titleType</th>\n",
       "      <th>tconst</th>\n",
       "      <th>primaryTitle</th>\n",
       "      <th>originalTitle</th>\n",
       "      <th>startYear</th>\n",
       "    </tr>\n",
       "  </thead>\n",
       "  <tbody>\n",
       "    <tr>\n",
       "      <td>12</td>\n",
       "      <td>movie</td>\n",
       "      <td>tt0000009</td>\n",
       "      <td>Miss Jerry</td>\n",
       "      <td>Miss Jerry</td>\n",
       "      <td>1894</td>\n",
       "    </tr>\n",
       "    <tr>\n",
       "      <td>230</td>\n",
       "      <td>movie</td>\n",
       "      <td>tt0000147</td>\n",
       "      <td>The Corbett-Fitzsimmons Fight</td>\n",
       "      <td>The Corbett-Fitzsimmons Fight</td>\n",
       "      <td>1897</td>\n",
       "    </tr>\n",
       "    <tr>\n",
       "      <td>518</td>\n",
       "      <td>movie</td>\n",
       "      <td>tt0000335</td>\n",
       "      <td>Soldiers of the Cross</td>\n",
       "      <td>Soldiers of the Cross</td>\n",
       "      <td>1900</td>\n",
       "    </tr>\n",
       "    <tr>\n",
       "      <td>791</td>\n",
       "      <td>movie</td>\n",
       "      <td>tt0000502</td>\n",
       "      <td>Bohemios</td>\n",
       "      <td>Bohemios</td>\n",
       "      <td>1905</td>\n",
       "    </tr>\n",
       "    <tr>\n",
       "      <td>911</td>\n",
       "      <td>movie</td>\n",
       "      <td>tt0000574</td>\n",
       "      <td>The Story of the Kelly Gang</td>\n",
       "      <td>The Story of the Kelly Gang</td>\n",
       "      <td>1906</td>\n",
       "    </tr>\n",
       "  </tbody>\n",
       "</table>\n",
       "</div>"
      ],
      "text/plain": [
       "    titleType     tconst                   primaryTitle  \\\n",
       "12      movie  tt0000009                     Miss Jerry   \n",
       "230     movie  tt0000147  The Corbett-Fitzsimmons Fight   \n",
       "518     movie  tt0000335          Soldiers of the Cross   \n",
       "791     movie  tt0000502                       Bohemios   \n",
       "911     movie  tt0000574    The Story of the Kelly Gang   \n",
       "\n",
       "                     originalTitle startYear  \n",
       "12                      Miss Jerry      1894  \n",
       "230  The Corbett-Fitzsimmons Fight      1897  \n",
       "518          Soldiers of the Cross      1900  \n",
       "791                       Bohemios      1905  \n",
       "911    The Story of the Kelly Gang      1906  "
      ]
     },
     "execution_count": 144,
     "metadata": {},
     "output_type": "execute_result"
    }
   ],
   "source": [
    "title_basics=title_basics[['titleType','tconst','primaryTitle', 'originalTitle', 'startYear']]\n",
    "title_basics=title_basics[title_basics.titleType=='movie']\n",
    "title_basics=title_basics[title_basics.startYear.apply(lambda x: str(x).isnumeric())]\n",
    "title_basics.head()"
   ]
  },
  {
   "cell_type": "code",
   "execution_count": 145,
   "metadata": {},
   "outputs": [
    {
     "data": {
      "text/plain": [
       "(484748, 5)"
      ]
     },
     "execution_count": 145,
     "metadata": {},
     "output_type": "execute_result"
    }
   ],
   "source": [
    "title_basics.shape"
   ]
  },
  {
   "cell_type": "code",
   "execution_count": 146,
   "metadata": {},
   "outputs": [
    {
     "data": {
      "text/html": [
       "<div>\n",
       "<style scoped>\n",
       "    .dataframe tbody tr th:only-of-type {\n",
       "        vertical-align: middle;\n",
       "    }\n",
       "\n",
       "    .dataframe tbody tr th {\n",
       "        vertical-align: top;\n",
       "    }\n",
       "\n",
       "    .dataframe thead th {\n",
       "        text-align: right;\n",
       "    }\n",
       "</style>\n",
       "<table border=\"1\" class=\"dataframe\">\n",
       "  <thead>\n",
       "    <tr style=\"text-align: right;\">\n",
       "      <th></th>\n",
       "      <th>primaryTitle</th>\n",
       "      <th>startYear</th>\n",
       "      <th>titleType</th>\n",
       "      <th>tconst</th>\n",
       "      <th>originalTitle</th>\n",
       "    </tr>\n",
       "  </thead>\n",
       "  <tbody>\n",
       "    <tr>\n",
       "      <td>0</td>\n",
       "      <td>!Women Art Revolution</td>\n",
       "      <td>2010</td>\n",
       "      <td>1</td>\n",
       "      <td>1</td>\n",
       "      <td>1</td>\n",
       "    </tr>\n",
       "    <tr>\n",
       "      <td>1</td>\n",
       "      <td>#1 Serial Killer</td>\n",
       "      <td>2013</td>\n",
       "      <td>1</td>\n",
       "      <td>1</td>\n",
       "      <td>1</td>\n",
       "    </tr>\n",
       "    <tr>\n",
       "      <td>2</td>\n",
       "      <td>#19</td>\n",
       "      <td>2021</td>\n",
       "      <td>1</td>\n",
       "      <td>1</td>\n",
       "      <td>1</td>\n",
       "    </tr>\n",
       "    <tr>\n",
       "      <td>3</td>\n",
       "      <td>#1915House</td>\n",
       "      <td>2018</td>\n",
       "      <td>1</td>\n",
       "      <td>1</td>\n",
       "      <td>1</td>\n",
       "    </tr>\n",
       "    <tr>\n",
       "      <td>4</td>\n",
       "      <td>#5</td>\n",
       "      <td>2013</td>\n",
       "      <td>1</td>\n",
       "      <td>1</td>\n",
       "      <td>1</td>\n",
       "    </tr>\n",
       "  </tbody>\n",
       "</table>\n",
       "</div>"
      ],
      "text/plain": [
       "            primaryTitle startYear  titleType  tconst  originalTitle\n",
       "0  !Women Art Revolution      2010          1       1              1\n",
       "1       #1 Serial Killer      2013          1       1              1\n",
       "2                    #19      2021          1       1              1\n",
       "3             #1915House      2018          1       1              1\n",
       "4                     #5      2013          1       1              1"
      ]
     },
     "execution_count": 146,
     "metadata": {},
     "output_type": "execute_result"
    }
   ],
   "source": [
    "grouped=title_basics.groupby(['primaryTitle', 'startYear'], as_index=False).count()\n",
    "grouped.head()"
   ]
  },
  {
   "cell_type": "code",
   "execution_count": null,
   "metadata": {},
   "outputs": [],
   "source": []
  },
  {
   "cell_type": "markdown",
   "metadata": {},
   "source": [
    "Now we join titles_basics and title_ratings dataframes on tconst (Index)."
   ]
  },
  {
   "cell_type": "code",
   "execution_count": 147,
   "metadata": {},
   "outputs": [],
   "source": [
    "ratings_and_titles=pd.merge(title_ratings.set_index('tconst'), title_basics.set_index('tconst'), left_index=True, right_index=True, how='inner')\n",
    "ratings_and_titles=ratings_and_titles.drop_duplicates()"
   ]
  },
  {
   "cell_type": "code",
   "execution_count": 148,
   "metadata": {},
   "outputs": [
    {
     "data": {
      "text/html": [
       "<div>\n",
       "<style scoped>\n",
       "    .dataframe tbody tr th:only-of-type {\n",
       "        vertical-align: middle;\n",
       "    }\n",
       "\n",
       "    .dataframe tbody tr th {\n",
       "        vertical-align: top;\n",
       "    }\n",
       "\n",
       "    .dataframe thead th {\n",
       "        text-align: right;\n",
       "    }\n",
       "</style>\n",
       "<table border=\"1\" class=\"dataframe\">\n",
       "  <thead>\n",
       "    <tr style=\"text-align: right;\">\n",
       "      <th></th>\n",
       "      <th>averageRating</th>\n",
       "      <th>numVotes</th>\n",
       "      <th>titleType</th>\n",
       "      <th>primaryTitle</th>\n",
       "      <th>originalTitle</th>\n",
       "      <th>startYear</th>\n",
       "    </tr>\n",
       "    <tr>\n",
       "      <th>tconst</th>\n",
       "      <th></th>\n",
       "      <th></th>\n",
       "      <th></th>\n",
       "      <th></th>\n",
       "      <th></th>\n",
       "      <th></th>\n",
       "    </tr>\n",
       "  </thead>\n",
       "  <tbody>\n",
       "    <tr>\n",
       "      <td>tt0000009</td>\n",
       "      <td>5.3</td>\n",
       "      <td>89</td>\n",
       "      <td>movie</td>\n",
       "      <td>Miss Jerry</td>\n",
       "      <td>Miss Jerry</td>\n",
       "      <td>1894</td>\n",
       "    </tr>\n",
       "    <tr>\n",
       "      <td>tt0000147</td>\n",
       "      <td>5.2</td>\n",
       "      <td>338</td>\n",
       "      <td>movie</td>\n",
       "      <td>The Corbett-Fitzsimmons Fight</td>\n",
       "      <td>The Corbett-Fitzsimmons Fight</td>\n",
       "      <td>1897</td>\n",
       "    </tr>\n",
       "    <tr>\n",
       "      <td>tt0000335</td>\n",
       "      <td>6.1</td>\n",
       "      <td>40</td>\n",
       "      <td>movie</td>\n",
       "      <td>Soldiers of the Cross</td>\n",
       "      <td>Soldiers of the Cross</td>\n",
       "      <td>1900</td>\n",
       "    </tr>\n",
       "    <tr>\n",
       "      <td>tt0000502</td>\n",
       "      <td>4.4</td>\n",
       "      <td>5</td>\n",
       "      <td>movie</td>\n",
       "      <td>Bohemios</td>\n",
       "      <td>Bohemios</td>\n",
       "      <td>1905</td>\n",
       "    </tr>\n",
       "    <tr>\n",
       "      <td>tt0000574</td>\n",
       "      <td>6.1</td>\n",
       "      <td>565</td>\n",
       "      <td>movie</td>\n",
       "      <td>The Story of the Kelly Gang</td>\n",
       "      <td>The Story of the Kelly Gang</td>\n",
       "      <td>1906</td>\n",
       "    </tr>\n",
       "  </tbody>\n",
       "</table>\n",
       "</div>"
      ],
      "text/plain": [
       "           averageRating  numVotes titleType                   primaryTitle  \\\n",
       "tconst                                                                        \n",
       "tt0000009            5.3        89     movie                     Miss Jerry   \n",
       "tt0000147            5.2       338     movie  The Corbett-Fitzsimmons Fight   \n",
       "tt0000335            6.1        40     movie          Soldiers of the Cross   \n",
       "tt0000502            4.4         5     movie                       Bohemios   \n",
       "tt0000574            6.1       565     movie    The Story of the Kelly Gang   \n",
       "\n",
       "                           originalTitle startYear  \n",
       "tconst                                              \n",
       "tt0000009                     Miss Jerry      1894  \n",
       "tt0000147  The Corbett-Fitzsimmons Fight      1897  \n",
       "tt0000335          Soldiers of the Cross      1900  \n",
       "tt0000502                       Bohemios      1905  \n",
       "tt0000574    The Story of the Kelly Gang      1906  "
      ]
     },
     "execution_count": 148,
     "metadata": {},
     "output_type": "execute_result"
    }
   ],
   "source": [
    "ratings_and_titles.head()"
   ]
  },
  {
   "cell_type": "code",
   "execution_count": 149,
   "metadata": {},
   "outputs": [
    {
     "data": {
      "text/plain": [
       "(246683, 6)"
      ]
     },
     "execution_count": 149,
     "metadata": {},
     "output_type": "execute_result"
    }
   ],
   "source": [
    "ratings_and_titles.shape"
   ]
  },
  {
   "cell_type": "markdown",
   "metadata": {},
   "source": [
    "Now we load netflix titles dataset and join it with ratings_and_titles dataframe on title and primaryTitle."
   ]
  },
  {
   "cell_type": "code",
   "execution_count": 150,
   "metadata": {},
   "outputs": [],
   "source": [
    "netflix_titles=pd.read_csv(\"netflix_titles.csv\", index_col=\"show_id\")"
   ]
  },
  {
   "cell_type": "markdown",
   "metadata": {},
   "source": [
    "We drop rows where we dont have release_year."
   ]
  },
  {
   "cell_type": "code",
   "execution_count": 151,
   "metadata": {},
   "outputs": [],
   "source": [
    "netflix_titles=netflix_titles.dropna(subset=['release_year'])"
   ]
  },
  {
   "cell_type": "markdown",
   "metadata": {},
   "source": [
    "We need to change to integer the release_year column first."
   ]
  },
  {
   "cell_type": "code",
   "execution_count": 152,
   "metadata": {},
   "outputs": [],
   "source": [
    "netflix_titles.release_year=netflix_titles.release_year.astype(numpy.int64)"
   ]
  },
  {
   "cell_type": "markdown",
   "metadata": {},
   "source": [
    "Drop rows in ratings_and_titles with non-numeric values for startYear and convert to integer."
   ]
  },
  {
   "cell_type": "code",
   "execution_count": 153,
   "metadata": {},
   "outputs": [],
   "source": [
    "ratings_and_titles=ratings_and_titles[ratings_and_titles.startYear.apply(lambda x: str(x).isnumeric())]"
   ]
  },
  {
   "cell_type": "code",
   "execution_count": 154,
   "metadata": {},
   "outputs": [],
   "source": [
    "ratings_and_titles.startYear=ratings_and_titles.startYear.astype(numpy.int64)"
   ]
  },
  {
   "cell_type": "markdown",
   "metadata": {},
   "source": [
    "Convert titles to lowercase."
   ]
  },
  {
   "cell_type": "code",
   "execution_count": 155,
   "metadata": {},
   "outputs": [],
   "source": [
    "netflix_titles['title']=netflix_titles['title'].str.lower()\n",
    "ratings_and_titles['originalTitle']=ratings_and_titles['originalTitle'].str.lower()\n",
    "ratings_and_titles['primaryTitle']=ratings_and_titles['primaryTitle'].str.lower()"
   ]
  },
  {
   "cell_type": "markdown",
   "metadata": {},
   "source": [
    "Now we can join netflix titles with IMDb ratings on title name and release year."
   ]
  },
  {
   "cell_type": "code",
   "execution_count": 156,
   "metadata": {},
   "outputs": [],
   "source": [
    "##subset movies\n",
    "netflix_titles=netflix_titles[netflix_titles.type=='Movie']"
   ]
  },
  {
   "cell_type": "code",
   "execution_count": 157,
   "metadata": {},
   "outputs": [
    {
     "data": {
      "text/plain": [
       "(4265, 11)"
      ]
     },
     "execution_count": 157,
     "metadata": {},
     "output_type": "execute_result"
    }
   ],
   "source": [
    "netflix_titles.shape"
   ]
  },
  {
   "cell_type": "code",
   "execution_count": 158,
   "metadata": {},
   "outputs": [],
   "source": [
    "netflix_titles_rating=pd.merge(netflix_titles, ratings_and_titles, left_on=['title', 'release_year'], right_on=['primaryTitle', 'startYear'], how='inner')"
   ]
  },
  {
   "cell_type": "markdown",
   "metadata": {},
   "source": [
    "## Exploratory data analysis"
   ]
  },
  {
   "cell_type": "markdown",
   "metadata": {},
   "source": [
    "Sort the obtained data frame by averageRating and number of votes."
   ]
  },
  {
   "cell_type": "code",
   "execution_count": 159,
   "metadata": {},
   "outputs": [],
   "source": [
    "netflix_titles_rating.sort_values(by=['averageRating', 'numVotes'], inplace=True, ascending=False)"
   ]
  },
  {
   "cell_type": "code",
   "execution_count": 160,
   "metadata": {},
   "outputs": [],
   "source": [
    "#look at titles where we have more than 2000 votes\n",
    "netflix_titles_rating_2000=netflix_titles_rating[netflix_titles_rating.numVotes>2000]"
   ]
  },
  {
   "cell_type": "code",
   "execution_count": 161,
   "metadata": {},
   "outputs": [
    {
     "data": {
      "text/html": [
       "<div>\n",
       "<style scoped>\n",
       "    .dataframe tbody tr th:only-of-type {\n",
       "        vertical-align: middle;\n",
       "    }\n",
       "\n",
       "    .dataframe tbody tr th {\n",
       "        vertical-align: top;\n",
       "    }\n",
       "\n",
       "    .dataframe thead th {\n",
       "        text-align: right;\n",
       "    }\n",
       "</style>\n",
       "<table border=\"1\" class=\"dataframe\">\n",
       "  <thead>\n",
       "    <tr style=\"text-align: right;\">\n",
       "      <th></th>\n",
       "      <th>type</th>\n",
       "      <th>title</th>\n",
       "      <th>director</th>\n",
       "      <th>cast</th>\n",
       "      <th>country</th>\n",
       "      <th>date_added</th>\n",
       "      <th>release_year</th>\n",
       "      <th>rating</th>\n",
       "      <th>duration</th>\n",
       "      <th>listed_in</th>\n",
       "      <th>description</th>\n",
       "      <th>averageRating</th>\n",
       "      <th>numVotes</th>\n",
       "      <th>titleType</th>\n",
       "      <th>primaryTitle</th>\n",
       "      <th>originalTitle</th>\n",
       "      <th>startYear</th>\n",
       "    </tr>\n",
       "  </thead>\n",
       "  <tbody>\n",
       "    <tr>\n",
       "      <td>1918</td>\n",
       "      <td>Movie</td>\n",
       "      <td>pulp fiction</td>\n",
       "      <td>Quentin Tarantino</td>\n",
       "      <td>John Travolta, Samuel L. Jackson, Uma Thurman,...</td>\n",
       "      <td>United States</td>\n",
       "      <td>January 1, 2019</td>\n",
       "      <td>1994</td>\n",
       "      <td>R</td>\n",
       "      <td>154 min</td>\n",
       "      <td>Classic Movies, Cult Movies, Dramas</td>\n",
       "      <td>This stylized crime caper weaves together stor...</td>\n",
       "      <td>8.9</td>\n",
       "      <td>1738354</td>\n",
       "      <td>movie</td>\n",
       "      <td>pulp fiction</td>\n",
       "      <td>pulp fiction</td>\n",
       "      <td>1994</td>\n",
       "    </tr>\n",
       "    <tr>\n",
       "      <td>1879</td>\n",
       "      <td>Movie</td>\n",
       "      <td>the lord of the rings: the return of the king</td>\n",
       "      <td>Peter Jackson</td>\n",
       "      <td>Elijah Wood, Ian McKellen, Liv Tyler, Viggo Mo...</td>\n",
       "      <td>New Zealand, United States</td>\n",
       "      <td>January 1, 2020</td>\n",
       "      <td>2003</td>\n",
       "      <td>PG-13</td>\n",
       "      <td>201 min</td>\n",
       "      <td>Action &amp; Adventure, Sci-Fi &amp; Fantasy</td>\n",
       "      <td>Aragorn is revealed as the heir to the ancient...</td>\n",
       "      <td>8.9</td>\n",
       "      <td>1571125</td>\n",
       "      <td>movie</td>\n",
       "      <td>the lord of the rings: the return of the king</td>\n",
       "      <td>the lord of the rings: the return of the king</td>\n",
       "      <td>2003</td>\n",
       "    </tr>\n",
       "    <tr>\n",
       "      <td>2877</td>\n",
       "      <td>Movie</td>\n",
       "      <td>schindler's list</td>\n",
       "      <td>Steven Spielberg</td>\n",
       "      <td>Liam Neeson, Ben Kingsley, Ralph Fiennes, Caro...</td>\n",
       "      <td>United States</td>\n",
       "      <td>April 1, 2018</td>\n",
       "      <td>1993</td>\n",
       "      <td>R</td>\n",
       "      <td>195 min</td>\n",
       "      <td>Classic Movies, Dramas</td>\n",
       "      <td>Oskar Schindler becomes an unlikely humanitari...</td>\n",
       "      <td>8.9</td>\n",
       "      <td>1154264</td>\n",
       "      <td>movie</td>\n",
       "      <td>schindler's list</td>\n",
       "      <td>schindler's list</td>\n",
       "      <td>1993</td>\n",
       "    </tr>\n",
       "    <tr>\n",
       "      <td>1837</td>\n",
       "      <td>Movie</td>\n",
       "      <td>inception</td>\n",
       "      <td>Christopher Nolan</td>\n",
       "      <td>Leonardo DiCaprio, Joseph Gordon-Levitt, Ellen...</td>\n",
       "      <td>United States, United Kingdom</td>\n",
       "      <td>January 1, 2020</td>\n",
       "      <td>2010</td>\n",
       "      <td>PG-13</td>\n",
       "      <td>148 min</td>\n",
       "      <td>Action &amp; Adventure, Sci-Fi &amp; Fantasy, Thrillers</td>\n",
       "      <td>In this mind-bending sci-fi thriller, a man ru...</td>\n",
       "      <td>8.8</td>\n",
       "      <td>1941631</td>\n",
       "      <td>movie</td>\n",
       "      <td>inception</td>\n",
       "      <td>inception</td>\n",
       "      <td>2010</td>\n",
       "    </tr>\n",
       "    <tr>\n",
       "      <td>748</td>\n",
       "      <td>Movie</td>\n",
       "      <td>the matrix</td>\n",
       "      <td>Lilly Wachowski, Lana Wachowski</td>\n",
       "      <td>Keanu Reeves, Laurence Fishburne, Carrie-Anne ...</td>\n",
       "      <td>United States</td>\n",
       "      <td>November 1, 2019</td>\n",
       "      <td>1999</td>\n",
       "      <td>R</td>\n",
       "      <td>136 min</td>\n",
       "      <td>Action &amp; Adventure, Sci-Fi &amp; Fantasy</td>\n",
       "      <td>A computer hacker learns that what most people...</td>\n",
       "      <td>8.7</td>\n",
       "      <td>1592527</td>\n",
       "      <td>movie</td>\n",
       "      <td>the matrix</td>\n",
       "      <td>the matrix</td>\n",
       "      <td>1999</td>\n",
       "    </tr>\n",
       "    <tr>\n",
       "      <td>1880</td>\n",
       "      <td>Movie</td>\n",
       "      <td>the lord of the rings: the two towers</td>\n",
       "      <td>Peter Jackson</td>\n",
       "      <td>Elijah Wood, Ian McKellen, Liv Tyler, Viggo Mo...</td>\n",
       "      <td>New Zealand, United States</td>\n",
       "      <td>January 1, 2020</td>\n",
       "      <td>2002</td>\n",
       "      <td>PG-13</td>\n",
       "      <td>179 min</td>\n",
       "      <td>Action &amp; Adventure, Sci-Fi &amp; Fantasy</td>\n",
       "      <td>Frodo and Sam head to Mordor to destroy the On...</td>\n",
       "      <td>8.7</td>\n",
       "      <td>1418801</td>\n",
       "      <td>movie</td>\n",
       "      <td>the lord of the rings: the two towers</td>\n",
       "      <td>the lord of the rings: the two towers</td>\n",
       "      <td>2002</td>\n",
       "    </tr>\n",
       "    <tr>\n",
       "      <td>1996</td>\n",
       "      <td>Movie</td>\n",
       "      <td>be here now</td>\n",
       "      <td>Lilibet Foster</td>\n",
       "      <td>Andy Whitfield</td>\n",
       "      <td>United States, Australia</td>\n",
       "      <td>February 28, 2017</td>\n",
       "      <td>2015</td>\n",
       "      <td>TV-MA</td>\n",
       "      <td>110 min</td>\n",
       "      <td>Documentaries</td>\n",
       "      <td>Trace the brave journey of actor Andy Whitfiel...</td>\n",
       "      <td>8.7</td>\n",
       "      <td>3065</td>\n",
       "      <td>movie</td>\n",
       "      <td>be here now</td>\n",
       "      <td>be here now</td>\n",
       "      <td>2015</td>\n",
       "    </tr>\n",
       "    <tr>\n",
       "      <td>1816</td>\n",
       "      <td>Movie</td>\n",
       "      <td>city of god</td>\n",
       "      <td>Fernando Meirelles, Katia Lund</td>\n",
       "      <td>Alexandre Rodrigues, Leandro Firmino, Phellipe...</td>\n",
       "      <td>Brazil, France, Germany</td>\n",
       "      <td>January 1, 2020</td>\n",
       "      <td>2002</td>\n",
       "      <td>R</td>\n",
       "      <td>130 min</td>\n",
       "      <td>Dramas, Independent Movies, International Movies</td>\n",
       "      <td>Growing up in a Rio de Janeiro slum, Rocket is...</td>\n",
       "      <td>8.6</td>\n",
       "      <td>672399</td>\n",
       "      <td>movie</td>\n",
       "      <td>city of god</td>\n",
       "      <td>cidade de deus</td>\n",
       "      <td>2002</td>\n",
       "    </tr>\n",
       "    <tr>\n",
       "      <td>2210</td>\n",
       "      <td>Movie</td>\n",
       "      <td>gol maal</td>\n",
       "      <td>Hrishikesh Mukherjee</td>\n",
       "      <td>Amol Palekar, Bindiya Goswami, Deven Verma, Ut...</td>\n",
       "      <td>India</td>\n",
       "      <td>December 31, 2019</td>\n",
       "      <td>1979</td>\n",
       "      <td>TV-PG</td>\n",
       "      <td>137 min</td>\n",
       "      <td>Classic Movies, Comedies, International Movies</td>\n",
       "      <td>When circumstances at work compel Ram to prete...</td>\n",
       "      <td>8.6</td>\n",
       "      <td>16556</td>\n",
       "      <td>movie</td>\n",
       "      <td>gol maal</td>\n",
       "      <td>gol maal</td>\n",
       "      <td>1979</td>\n",
       "    </tr>\n",
       "    <tr>\n",
       "      <td>2434</td>\n",
       "      <td>Movie</td>\n",
       "      <td>the departed</td>\n",
       "      <td>Martin Scorsese</td>\n",
       "      <td>Leonardo DiCaprio, Matt Damon, Jack Nicholson,...</td>\n",
       "      <td>United States</td>\n",
       "      <td>December 1, 2019</td>\n",
       "      <td>2006</td>\n",
       "      <td>R</td>\n",
       "      <td>151 min</td>\n",
       "      <td>Dramas, Thrillers</td>\n",
       "      <td>Two rookie Boston cops are sent deep undercove...</td>\n",
       "      <td>8.5</td>\n",
       "      <td>1131368</td>\n",
       "      <td>movie</td>\n",
       "      <td>the departed</td>\n",
       "      <td>the departed</td>\n",
       "      <td>2006</td>\n",
       "    </tr>\n",
       "  </tbody>\n",
       "</table>\n",
       "</div>"
      ],
      "text/plain": [
       "       type                                          title  \\\n",
       "1918  Movie                                   pulp fiction   \n",
       "1879  Movie  the lord of the rings: the return of the king   \n",
       "2877  Movie                               schindler's list   \n",
       "1837  Movie                                      inception   \n",
       "748   Movie                                     the matrix   \n",
       "1880  Movie          the lord of the rings: the two towers   \n",
       "1996  Movie                                    be here now   \n",
       "1816  Movie                                    city of god   \n",
       "2210  Movie                                       gol maal   \n",
       "2434  Movie                                   the departed   \n",
       "\n",
       "                             director  \\\n",
       "1918                Quentin Tarantino   \n",
       "1879                    Peter Jackson   \n",
       "2877                 Steven Spielberg   \n",
       "1837                Christopher Nolan   \n",
       "748   Lilly Wachowski, Lana Wachowski   \n",
       "1880                    Peter Jackson   \n",
       "1996                   Lilibet Foster   \n",
       "1816   Fernando Meirelles, Katia Lund   \n",
       "2210             Hrishikesh Mukherjee   \n",
       "2434                  Martin Scorsese   \n",
       "\n",
       "                                                   cast  \\\n",
       "1918  John Travolta, Samuel L. Jackson, Uma Thurman,...   \n",
       "1879  Elijah Wood, Ian McKellen, Liv Tyler, Viggo Mo...   \n",
       "2877  Liam Neeson, Ben Kingsley, Ralph Fiennes, Caro...   \n",
       "1837  Leonardo DiCaprio, Joseph Gordon-Levitt, Ellen...   \n",
       "748   Keanu Reeves, Laurence Fishburne, Carrie-Anne ...   \n",
       "1880  Elijah Wood, Ian McKellen, Liv Tyler, Viggo Mo...   \n",
       "1996                                     Andy Whitfield   \n",
       "1816  Alexandre Rodrigues, Leandro Firmino, Phellipe...   \n",
       "2210  Amol Palekar, Bindiya Goswami, Deven Verma, Ut...   \n",
       "2434  Leonardo DiCaprio, Matt Damon, Jack Nicholson,...   \n",
       "\n",
       "                            country         date_added  release_year rating  \\\n",
       "1918                  United States    January 1, 2019          1994      R   \n",
       "1879     New Zealand, United States    January 1, 2020          2003  PG-13   \n",
       "2877                  United States      April 1, 2018          1993      R   \n",
       "1837  United States, United Kingdom    January 1, 2020          2010  PG-13   \n",
       "748                   United States   November 1, 2019          1999      R   \n",
       "1880     New Zealand, United States    January 1, 2020          2002  PG-13   \n",
       "1996       United States, Australia  February 28, 2017          2015  TV-MA   \n",
       "1816        Brazil, France, Germany    January 1, 2020          2002      R   \n",
       "2210                          India  December 31, 2019          1979  TV-PG   \n",
       "2434                  United States   December 1, 2019          2006      R   \n",
       "\n",
       "     duration                                         listed_in  \\\n",
       "1918  154 min               Classic Movies, Cult Movies, Dramas   \n",
       "1879  201 min              Action & Adventure, Sci-Fi & Fantasy   \n",
       "2877  195 min                            Classic Movies, Dramas   \n",
       "1837  148 min   Action & Adventure, Sci-Fi & Fantasy, Thrillers   \n",
       "748   136 min              Action & Adventure, Sci-Fi & Fantasy   \n",
       "1880  179 min              Action & Adventure, Sci-Fi & Fantasy   \n",
       "1996  110 min                                     Documentaries   \n",
       "1816  130 min  Dramas, Independent Movies, International Movies   \n",
       "2210  137 min    Classic Movies, Comedies, International Movies   \n",
       "2434  151 min                                 Dramas, Thrillers   \n",
       "\n",
       "                                            description  averageRating  \\\n",
       "1918  This stylized crime caper weaves together stor...            8.9   \n",
       "1879  Aragorn is revealed as the heir to the ancient...            8.9   \n",
       "2877  Oskar Schindler becomes an unlikely humanitari...            8.9   \n",
       "1837  In this mind-bending sci-fi thriller, a man ru...            8.8   \n",
       "748   A computer hacker learns that what most people...            8.7   \n",
       "1880  Frodo and Sam head to Mordor to destroy the On...            8.7   \n",
       "1996  Trace the brave journey of actor Andy Whitfiel...            8.7   \n",
       "1816  Growing up in a Rio de Janeiro slum, Rocket is...            8.6   \n",
       "2210  When circumstances at work compel Ram to prete...            8.6   \n",
       "2434  Two rookie Boston cops are sent deep undercove...            8.5   \n",
       "\n",
       "      numVotes titleType                                   primaryTitle  \\\n",
       "1918   1738354     movie                                   pulp fiction   \n",
       "1879   1571125     movie  the lord of the rings: the return of the king   \n",
       "2877   1154264     movie                               schindler's list   \n",
       "1837   1941631     movie                                      inception   \n",
       "748    1592527     movie                                     the matrix   \n",
       "1880   1418801     movie          the lord of the rings: the two towers   \n",
       "1996      3065     movie                                    be here now   \n",
       "1816    672399     movie                                    city of god   \n",
       "2210     16556     movie                                       gol maal   \n",
       "2434   1131368     movie                                   the departed   \n",
       "\n",
       "                                      originalTitle  startYear  \n",
       "1918                                   pulp fiction       1994  \n",
       "1879  the lord of the rings: the return of the king       2003  \n",
       "2877                               schindler's list       1993  \n",
       "1837                                      inception       2010  \n",
       "748                                      the matrix       1999  \n",
       "1880          the lord of the rings: the two towers       2002  \n",
       "1996                                    be here now       2015  \n",
       "1816                                 cidade de deus       2002  \n",
       "2210                                       gol maal       1979  \n",
       "2434                                   the departed       2006  "
      ]
     },
     "execution_count": 161,
     "metadata": {},
     "output_type": "execute_result"
    }
   ],
   "source": [
    "netflix_titles_rating_2000.head(10)"
   ]
  },
  {
   "cell_type": "markdown",
   "metadata": {},
   "source": [
    "### What is the distribution of the average ratings?"
   ]
  },
  {
   "cell_type": "code",
   "execution_count": 162,
   "metadata": {},
   "outputs": [
    {
     "data": {
      "image/png": "[encoded data removed]",
      "text/plain": [
       "<Figure size 1440x432 with 1 Axes>"
      ]
     },
     "metadata": {
      "needs_background": "light"
     },
     "output_type": "display_data"
    }
   ],
   "source": [
    "plt.figure(figsize=(20, 6))\n",
    "sns.distplot(netflix_titles_rating['averageRating']);"
   ]
  },
  {
   "cell_type": "markdown",
   "metadata": {},
   "source": [
    "The output above shows something similar to the normal distribution."
   ]
  },
  {
   "cell_type": "markdown",
   "metadata": {},
   "source": [
    "### What is the distribution of number of votes?"
   ]
  },
  {
   "cell_type": "code",
   "execution_count": 163,
   "metadata": {},
   "outputs": [
    {
     "data": {
      "image/png": "[encoded data removed]",
      "text/plain": [
       "<Figure size 1440x432 with 1 Axes>"
      ]
     },
     "metadata": {
      "needs_background": "light"
     },
     "output_type": "display_data"
    }
   ],
   "source": [
    "plt.figure(figsize=(20, 6))\n",
    "sns.distplot(netflix_titles_rating['numVotes']);"
   ]
  },
  {
   "cell_type": "markdown",
   "metadata": {},
   "source": [
    "### What are the top ten movies on netflix according to the IMDb rating?"
   ]
  },
  {
   "cell_type": "code",
   "execution_count": 164,
   "metadata": {},
   "outputs": [
    {
     "data": {
      "text/plain": [
       "1918                                     pulp fiction\n",
       "1879    the lord of the rings: the return of the king\n",
       "2877                                 schindler's list\n",
       "1837                                        inception\n",
       "748                                        the matrix\n",
       "1880            the lord of the rings: the two towers\n",
       "1996                                      be here now\n",
       "1816                                      city of god\n",
       "2210                                         gol maal\n",
       "2434                                     the departed\n",
       "Name: title, dtype: object"
      ]
     },
     "execution_count": 164,
     "metadata": {},
     "output_type": "execute_result"
    }
   ],
   "source": [
    "netflix_titles_rating_2000.head(10)['title']"
   ]
  },
  {
   "cell_type": "markdown",
   "metadata": {},
   "source": [
    "### What are the countries producing the 100 most populat films?"
   ]
  },
  {
   "cell_type": "code",
   "execution_count": 165,
   "metadata": {},
   "outputs": [],
   "source": [
    "top_countries=netflix_titles_rating_2000.head(100)['country'].value_counts()"
   ]
  },
  {
   "cell_type": "code",
   "execution_count": 166,
   "metadata": {},
   "outputs": [
    {
     "data": {
      "text/plain": [
       "United States                                                                                               34\n",
       "India                                                                                                       31\n",
       "United Kingdom                                                                                               5\n",
       "New Zealand, United States                                                                                   2\n",
       "Spain                                                                                                        2\n",
       "United States, United Kingdom                                                                                2\n",
       "United States, Japan                                                                                         1\n",
       "Canada                                                                                                       1\n",
       "Italy, United States                                                                                         1\n",
       "Austria, United States                                                                                       1\n",
       "United Kingdom, France, United States                                                                        1\n",
       "United Kingdom, Egypt, United States                                                                         1\n",
       "Denmark, Indonesia, Finland, Norway, United Kingdom, Israel, France, United States, Germany, Netherlands     1\n",
       "Sweden, United Kingdom, Finland                                                                              1\n",
       "Germany, United States                                                                                       1\n",
       "Iran, France                                                                                                 1\n",
       "United States, Canada                                                                                        1\n",
       "Hong Kong, China                                                                                             1\n",
       "United Kingdom, Ukraine, United States                                                                       1\n",
       "United Kingdom, United States, Australia                                                                     1\n",
       "United States, Australia                                                                                     1\n",
       "Germany                                                                                                      1\n",
       "Ireland, Canada, United Kingdom, United States                                                               1\n",
       "Turkey                                                                                                       1\n",
       "United Kingdom,                                                                                              1\n",
       "India, United States                                                                                         1\n",
       "Brazil, France, Germany                                                                                      1\n",
       "United States, United Kingdom, Germany                                                                       1\n",
       "Mexico, Spain                                                                                                1\n",
       "United States, Italy, United Kingdom, Liechtenstein                                                          1\n",
       "Name: country, dtype: int64"
      ]
     },
     "execution_count": 166,
     "metadata": {},
     "output_type": "execute_result"
    }
   ],
   "source": [
    "top_countries"
   ]
  },
  {
   "cell_type": "markdown",
   "metadata": {},
   "source": [
    "### What are the top genres of the 100 most popular films?"
   ]
  },
  {
   "cell_type": "markdown",
   "metadata": {},
   "source": [
    "Since movies may be listed in many genres, we need firstly to split them."
   ]
  },
  {
   "cell_type": "code",
   "execution_count": 167,
   "metadata": {},
   "outputs": [
    {
     "name": "stdout",
     "output_type": "stream",
     "text": [
      "                                              title                 listed_in\n",
      "1918                                   pulp fiction            Classic Movies\n",
      "1918                                   pulp fiction               Cult Movies\n",
      "1918                                   pulp fiction                    Dramas\n",
      "1879  the lord of the rings: the return of the king        Action & Adventure\n",
      "1879  the lord of the rings: the return of the king          Sci-Fi & Fantasy\n",
      "...                                             ...                       ...\n",
      "1596                                     i am kalam  Children & Family Movies\n",
      "1596                                     i am kalam                  Comedies\n",
      "1596                                     i am kalam                    Dramas\n",
      "1560              the battered bastards of baseball             Documentaries\n",
      "1560              the battered bastards of baseball             Sports Movies\n",
      "\n",
      "[235 rows x 2 columns]\n"
     ]
    }
   ],
   "source": [
    "from itertools import chain\n",
    "\n",
    "# return list from series of comma-separated strings\n",
    "def chainer(s):\n",
    "    return list(chain.from_iterable(s.str.split(',')))\n",
    "\n",
    "# calculate lengths of splits\n",
    "lens = netflix_titles_rating_2000.head(100)['listed_in'].str.split(',').map(len)\n",
    "\n",
    "# create new dataframe, repeating or chaining as appropriate\n",
    "res = pd.DataFrame({'title': numpy.repeat(netflix_titles_rating_2000.head(100)['title'], lens),\n",
    "                    'listed_in': chainer(netflix_titles_rating_2000.head(100)['listed_in']),\n",
    "                    })\n",
    "res['listed_in']=res['listed_in'].str.strip()\n",
    "\n",
    "print(res)"
   ]
  },
  {
   "cell_type": "code",
   "execution_count": 168,
   "metadata": {},
   "outputs": [],
   "source": [
    "top_genres=res['listed_in'].value_counts()"
   ]
  },
  {
   "cell_type": "code",
   "execution_count": 169,
   "metadata": {},
   "outputs": [
    {
     "data": {
      "text/plain": [
       "Dramas                      58\n",
       "International Movies        45\n",
       "Documentaries               20\n",
       "Action & Adventure          20\n",
       "Comedies                    20\n",
       "Classic Movies              17\n",
       "Thrillers                   12\n",
       "Independent Movies          10\n",
       "Sci-Fi & Fantasy             8\n",
       "Sports Movies                6\n",
       "Romantic Movies              6\n",
       "Cult Movies                  4\n",
       "Children & Family Movies     3\n",
       "Music & Musicals             3\n",
       "Stand-Up Comedy              1\n",
       "Horror Movies                1\n",
       "LGBTQ Movies                 1\n",
       "Name: listed_in, dtype: int64"
      ]
     },
     "execution_count": 169,
     "metadata": {},
     "output_type": "execute_result"
    }
   ],
   "source": [
    "top_genres"
   ]
  },
  {
   "cell_type": "code",
   "execution_count": 170,
   "metadata": {},
   "outputs": [
    {
     "data": {
      "text/plain": [
       "(array([ 0,  1,  2,  3,  4,  5,  6,  7,  8,  9, 10, 11, 12, 13, 14, 15, 16]),\n",
       " <a list of 17 Text xticklabel objects>)"
      ]
     },
     "execution_count": 170,
     "metadata": {},
     "output_type": "execute_result"
    },
    {
     "data": {
      "image/png": "[encoded data removed]",
      "text/plain": [
       "<Figure size 1440x432 with 1 Axes>"
      ]
     },
     "metadata": {
      "needs_background": "light"
     },
     "output_type": "display_data"
    }
   ],
   "source": [
    "plt.figure(figsize=(20, 6))\n",
    "chart=sns.countplot(x=\"listed_in\", data=res, order = res['listed_in'].value_counts().index)\n",
    "plt.xticks(\n",
    "    rotation=45, \n",
    "    horizontalalignment='right',\n",
    "    fontweight='light',\n",
    "    fontsize='x-large'  \n",
    ")"
   ]
  },
  {
   "cell_type": "code",
   "execution_count": 171,
   "metadata": {},
   "outputs": [],
   "source": [
    "#save plot\n",
    "chart.figure.savefig(\"pop_genres.png\")"
   ]
  },
  {
   "cell_type": "code",
   "execution_count": 93,
   "metadata": {},
   "outputs": [],
   "source": [
    "#save to the file\n",
    "#netflix_titles_rating.to_csv('netflix_titles_rating_movies.csv')"
   ]
  },
  {
   "cell_type": "code",
   "execution_count": null,
   "metadata": {},
   "outputs": [],
   "source": []
  }
 ],
 "metadata": {
  "kernelspec": {
   "display_name": "Python 3",
   "language": "python",
   "name": "python3"
  },
  "language_info": {
   "codemirror_mode": {
    "name": "ipython",
    "version": 3
   },
   "file_extension": ".py",
   "mimetype": "text/x-python",
   "name": "python",
   "nbconvert_exporter": "python",
   "pygments_lexer": "ipython3",
   "version": "3.7.4"
  }
 },
 "nbformat": 4,
 "nbformat_minor": 2
}
